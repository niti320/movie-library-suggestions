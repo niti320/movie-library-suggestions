{
 "cells": [
  {
   "cell_type": "markdown",
   "metadata": {},
   "source": []
  },
  {
   "cell_type": "code",
   "execution_count": 4,
   "metadata": {},
   "outputs": [],
   "source": [
    "import pandas as pd\n",
    "import numpy as np"
   ]
  },
  {
   "cell_type": "code",
   "execution_count": 5,
   "metadata": {},
   "outputs": [
    {
     "name": "stderr",
     "output_type": "stream",
     "text": [
      "C:\\Users\\yeahb\\AppData\\Local\\Temp\\ipykernel_16352\\4116469559.py:1: DtypeWarning: Columns (10) have mixed types. Specify dtype option on import or set low_memory=False.\n",
      "  df = pd.read_csv(\"movies_metadata.csv\")\n",
      "C:\\Users\\yeahb\\AppData\\Local\\Temp\\ipykernel_16352\\4116469559.py:6: SettingWithCopyWarning: \n",
      "A value is trying to be set on a copy of a slice from a DataFrame.\n",
      "Try using .loc[row_indexer,col_indexer] = value instead\n",
      "\n",
      "See the caveats in the documentation: https://pandas.pydata.org/pandas-docs/stable/user_guide/indexing.html#returning-a-view-versus-a-copy\n",
      "  filtereddf['belongs_to_collection'] = filtereddf['belongs_to_collection'].apply(lambda x: ast.literal_eval(x) if isinstance(x, str) else x)\n",
      "C:\\Users\\yeahb\\AppData\\Local\\Temp\\ipykernel_16352\\4116469559.py:8: SettingWithCopyWarning: \n",
      "A value is trying to be set on a copy of a slice from a DataFrame.\n",
      "Try using .loc[row_indexer,col_indexer] = value instead\n",
      "\n",
      "See the caveats in the documentation: https://pandas.pydata.org/pandas-docs/stable/user_guide/indexing.html#returning-a-view-versus-a-copy\n",
      "  filtereddf['collection'] = filtereddf['belongs_to_collection'].apply(lambda x: x['name'] if isinstance(x, dict) else None)\n",
      "C:\\Users\\yeahb\\AppData\\Local\\Temp\\ipykernel_16352\\4116469559.py:10: SettingWithCopyWarning: \n",
      "A value is trying to be set on a copy of a slice from a DataFrame.\n",
      "Try using .loc[row_indexer,col_indexer] = value instead\n",
      "\n",
      "See the caveats in the documentation: https://pandas.pydata.org/pandas-docs/stable/user_guide/indexing.html#returning-a-view-versus-a-copy\n",
      "  filtereddf['collection'] = filtereddf['collection'].astype(\"string\")\n",
      "C:\\Users\\yeahb\\AppData\\Local\\Temp\\ipykernel_16352\\4116469559.py:11: SettingWithCopyWarning: \n",
      "A value is trying to be set on a copy of a slice from a DataFrame\n",
      "\n",
      "See the caveats in the documentation: https://pandas.pydata.org/pandas-docs/stable/user_guide/indexing.html#returning-a-view-versus-a-copy\n",
      "  filtereddf.drop(columns=['belongs_to_collection'],inplace=True);\n"
     ]
    },
    {
     "data": {
      "text/plain": [
       "\"[{'id': 16, 'name': 'Animation'}, {'id': 35, 'name': 'Comedy'}, {'id': 10751, 'name': 'Family'}]\""
      ]
     },
     "execution_count": 5,
     "metadata": {},
     "output_type": "execute_result"
    }
   ],
   "source": [
    "df = pd.read_csv(\"movies_metadata.csv\")\n",
    "df\n",
    "filtereddf = df[['belongs_to_collection','budget','genres','imdb_id','original_language','revenue','title','vote_average','vote_count']]\n",
    "import ast\n",
    "\n",
    "filtereddf['belongs_to_collection'] = filtereddf['belongs_to_collection'].apply(lambda x: ast.literal_eval(x) if isinstance(x, str) else x)\n",
    "\n",
    "filtereddf['collection'] = filtereddf['belongs_to_collection'].apply(lambda x: x['name'] if isinstance(x, dict) else None)\n",
    "\n",
    "filtereddf['collection'] = filtereddf['collection'].astype(\"string\")\n",
    "filtereddf.drop(columns=['belongs_to_collection'],inplace=True);\n",
    "filtereddf.genres[0]\n",
    "\n",
    "\n"
   ]
  },
  {
   "cell_type": "code",
   "execution_count": 6,
   "metadata": {},
   "outputs": [
    {
     "name": "stderr",
     "output_type": "stream",
     "text": [
      "C:\\Users\\yeahb\\AppData\\Local\\Temp\\ipykernel_16352\\3229632580.py:1: SettingWithCopyWarning: \n",
      "A value is trying to be set on a copy of a slice from a DataFrame.\n",
      "Try using .loc[row_indexer,col_indexer] = value instead\n",
      "\n",
      "See the caveats in the documentation: https://pandas.pydata.org/pandas-docs/stable/user_guide/indexing.html#returning-a-view-versus-a-copy\n",
      "  filtereddf['genre'] = filtereddf['genres'].apply(\n",
      "C:\\Users\\yeahb\\AppData\\Local\\Temp\\ipykernel_16352\\3229632580.py:4: SettingWithCopyWarning: \n",
      "A value is trying to be set on a copy of a slice from a DataFrame\n",
      "\n",
      "See the caveats in the documentation: https://pandas.pydata.org/pandas-docs/stable/user_guide/indexing.html#returning-a-view-versus-a-copy\n",
      "  filtereddf.drop(columns=['genres'],inplace=True);\n"
     ]
    }
   ],
   "source": [
    "filtereddf['genre'] = filtereddf['genres'].apply(\n",
    "    lambda x: ','.join([genre['name'] for genre in eval(x)]) if isinstance(x, str) else ''\n",
    ")\n",
    "filtereddf.drop(columns=['genres'],inplace=True);\n",
    "\n",
    "filtereddf = filtereddf[['imdb_id','title','original_language','vote_average','genre','collection','vote_count']];\n",
    "filtereddf = filtereddf.dropna(subset=['title'], axis=0)\n",
    "filtereddf2 = filtereddf[(filtereddf['vote_count'] > 100) & (filtereddf['original_language'] == 'en')]\n",
    "\n",
    "filtereddf2.count()\n",
    "filtereddf2 = filtereddf2.sort_values(by='vote_average', ascending=False)\n",
    "filtereddf2['collection'] = filtereddf2['collection'].str.replace(r'\\b(Collection|Trilogy|Anthology|Series|Saga|Franchise|Set|Edition|Legacy|Volume|Box Set|Part)\\b', '', regex=True)\n",
    "filtereddf2\n",
    "filtereddf2.to_csv('data.csv',index=False);\n",
    "\n"
   ]
  },
  {
   "cell_type": "code",
   "execution_count": null,
   "metadata": {},
   "outputs": [],
   "source": []
  },
  {
   "cell_type": "code",
   "execution_count": null,
   "metadata": {},
   "outputs": [],
   "source": []
  }
 ],
 "metadata": {
  "kernelspec": {
   "display_name": "env",
   "language": "python",
   "name": "python3"
  },
  "language_info": {
   "codemirror_mode": {
    "name": "ipython",
    "version": 3
   },
   "file_extension": ".py",
   "mimetype": "text/x-python",
   "name": "python",
   "nbconvert_exporter": "python",
   "pygments_lexer": "ipython3",
   "version": "3.10.15"
  }
 },
 "nbformat": 4,
 "nbformat_minor": 2
}
